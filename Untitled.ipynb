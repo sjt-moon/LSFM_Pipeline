{
 "cells": [
  {
   "cell_type": "markdown",
   "metadata": {},
   "source": [
    "# 1. Loader"
   ]
  },
  {
   "cell_type": "code",
   "execution_count": 1,
   "metadata": {
    "collapsed": true
   },
   "outputs": [],
   "source": [
    "from helper import *\n",
    "import algorithms\n",
    "import menpo3d\n",
    "from importlib import reload\n",
    "import datetime\n",
    "%matplotlib qt"
   ]
  },
  {
   "cell_type": "markdown",
   "metadata": {},
   "source": [
    "First load the BFM mean model as the target mesh."
   ]
  },
  {
   "cell_type": "code",
   "execution_count": 2,
   "metadata": {
    "collapsed": true
   },
   "outputs": [],
   "source": [
    "#bfm_mean = loader.get_mean_model(\"../BFM/3dmm/BFM.mat\")\n",
    "#bfm_mean.view()"
   ]
  },
  {
   "cell_type": "markdown",
   "metadata": {},
   "source": [
    "You should see\n",
    "\n",
    "<img src=\"./BFM_mean.png\">"
   ]
  },
  {
   "cell_type": "markdown",
   "metadata": {},
   "source": [
    "Then load the source mesh to do the transformation."
   ]
  },
  {
   "cell_type": "code",
   "execution_count": 3,
   "metadata": {
    "collapsed": true
   },
   "outputs": [],
   "source": [
    "source = menpo3d.io.import_mesh(\"../3DMM/1/1_0001.obj\")\n",
    "#source.view()"
   ]
  },
  {
   "cell_type": "markdown",
   "metadata": {},
   "source": [
    "You shall see\n",
    "<img src=\"./source_mesh.png\">"
   ]
  },
  {
   "cell_type": "markdown",
   "metadata": {},
   "source": [
    "# 2. Non-rigid icp\n",
    "\n",
    "First, test non-rigid icp algorithm."
   ]
  },
  {
   "cell_type": "code",
   "execution_count": 4,
   "metadata": {
    "collapsed": true
   },
   "outputs": [],
   "source": [
    "target = menpo3d.io.import_mesh(\"../3DMM/1/1_0002.obj\")\n",
    "#target.view()"
   ]
  },
  {
   "cell_type": "code",
   "execution_count": 5,
   "metadata": {
    "collapsed": true
   },
   "outputs": [],
   "source": [
    "from algorithms import *"
   ]
  },
  {
   "cell_type": "code",
   "execution_count": null,
   "metadata": {},
   "outputs": [
    {
     "name": "stdout",
     "output_type": "stream",
     "text": [
      "Epoch 1 with stiffness 50\n",
      "solving linear equation...\n",
      "2018-11-07 15:45:52.295989\n",
      "inversing matrix"
     ]
    }
   ],
   "source": [
    "fitter = no_landmark_nicp.NonRigidIcp()\n",
    "transformed_source = fitter.non_rigid_icp(source, target)"
   ]
  },
  {
   "cell_type": "code",
   "execution_count": null,
   "metadata": {
    "collapsed": true
   },
   "outputs": [],
   "source": []
  },
  {
   "cell_type": "code",
   "execution_count": null,
   "metadata": {
    "collapsed": true
   },
   "outputs": [],
   "source": []
  },
  {
   "cell_type": "code",
   "execution_count": null,
   "metadata": {
    "collapsed": true
   },
   "outputs": [],
   "source": []
  },
  {
   "cell_type": "code",
   "execution_count": 6,
   "metadata": {
    "collapsed": true
   },
   "outputs": [],
   "source": [
    "import numpy as np\n",
    "import scipy.sparse as sp\n",
    "from menpo3d.vtkutils import trimesh_to_vtk, VTKClosestPointLocator\n",
    "from menpo.shape import TriMesh"
   ]
  },
  {
   "cell_type": "code",
   "execution_count": 7,
   "metadata": {
    "collapsed": true
   },
   "outputs": [],
   "source": [
    "n_dims = source.n_dims\n",
    "M, unique_edge_pairs = fitter._node_arc_incidence_matrix(source)\n",
    "\n",
    "# weight matrix\n",
    "G = np.identity(n_dims + 1)\n",
    "\n",
    "M_kron_G = sp.kron(M, G)"
   ]
  },
  {
   "cell_type": "code",
   "execution_count": 8,
   "metadata": {},
   "outputs": [
    {
     "name": "stdout",
     "output_type": "stream",
     "text": [
      "(2766, 3)\n",
      "(2766, 2766)\n",
      "(4, 4)\n",
      "(11064, 11064)\n"
     ]
    }
   ],
   "source": [
    "print(source.points.shape)\n",
    "print(M.shape)\n",
    "print(G.shape)\n",
    "print(M_kron_G.shape)"
   ]
  },
  {
   "cell_type": "code",
   "execution_count": 9,
   "metadata": {
    "collapsed": true
   },
   "outputs": [],
   "source": [
    "target_vtk = trimesh_to_vtk(target)\n",
    "closest_points_on_target = VTKClosestPointLocator(target_vtk)"
   ]
  },
  {
   "cell_type": "code",
   "execution_count": 10,
   "metadata": {
    "collapsed": true
   },
   "outputs": [],
   "source": [
    "alpha = 50\n",
    "\n",
    "n_dims = source.n_dims\n",
    "h_dims = n_dims + 1\n",
    "n = source.points.shape[0]\n",
    "X_prev = np.tile(np.zeros((n_dims, h_dims)), n).T\n",
    "edge_tris = source.boundary_tri_index()\n",
    "trilist = source.trilist\n",
    "target_tri_normals = target.tri_normals()\n",
    "\n",
    "# we need to prepare some indices for efficient construction of the D sparse matrix.\n",
    "row = np.hstack((np.repeat(np.arange(n)[:, None], n_dims, axis=1).ravel(), np.arange(n)))\n",
    "x = np.arange(n * h_dims).reshape((n, h_dims))\n",
    "col = np.hstack((x[:, :n_dims].ravel(), x[:, n_dims]))\n",
    "ones = np.ones(n)\n",
    "alpha_M_kron_G = alpha * M_kron_G\n",
    "\n",
    "# start iteration\n",
    "iter_ = 0"
   ]
  },
  {
   "cell_type": "code",
   "execution_count": 11,
   "metadata": {
    "collapsed": true
   },
   "outputs": [],
   "source": [
    "v_i = source.points"
   ]
  },
  {
   "cell_type": "code",
   "execution_count": 12,
   "metadata": {
    "collapsed": true
   },
   "outputs": [],
   "source": [
    "U, tri_indices = closest_points_on_target(v_i)\n",
    "w_i_e = np.in1d(tri_indices, edge_tris, invert=True)\n",
    "            \n",
    "v_i_tm = TriMesh(v_i, trilist=trilist)\n",
    "v_i_n = v_i_tm.vertex_normals()\n",
    "# Extract the corresponding normals from the target\n",
    "u_i_n = target_tri_normals[tri_indices]\n",
    "# If the dot of the normals is lt 0.9 don't contrib to deformation\n",
    "w_i_n = (u_i_n * v_i_n).sum(axis=1) > 0.9\n",
    "w_i = w_i_n\n",
    "\n",
    "# Build the sparse diagonal weight matrix\n",
    "W = sp.diags(np.array(w_i).astype(np.float)[None, :], [0])"
   ]
  },
  {
   "cell_type": "code",
   "execution_count": null,
   "metadata": {
    "collapsed": true
   },
   "outputs": [],
   "source": []
  },
  {
   "cell_type": "code",
   "execution_count": 13,
   "metadata": {
    "collapsed": true
   },
   "outputs": [],
   "source": [
    "data = np.hstack((v_i.ravel(), ones))\n",
    "D = sp.coo_matrix((data, (row, col)))\n",
    "\n",
    "to_stack_A = [alpha_M_kron_G, W.dot(D)]\n",
    "to_stack_B = [np.zeros((alpha_M_kron_G.shape[0], n_dims)), U * w_i[:, None]]  # nullify nearest points by w_i\n",
    "\n",
    "A = sp.vstack(to_stack_A).tocsr()\n",
    "B = sp.vstack(to_stack_B).tocsr()"
   ]
  },
  {
   "cell_type": "code",
   "execution_count": 14,
   "metadata": {},
   "outputs": [
    {
     "name": "stdout",
     "output_type": "stream",
     "text": [
      "(11064,)\n",
      "(2766, 11064)\n",
      "(2766, 11064)\n",
      "(13830, 11064)\n",
      "(13830, 3)\n"
     ]
    }
   ],
   "source": [
    "print(data.shape)\n",
    "print(D.shape)\n",
    "print(to_stack_A[1].shape)\n",
    "print(A.shape)\n",
    "print(B.shape)"
   ]
  },
  {
   "cell_type": "code",
   "execution_count": 16,
   "metadata": {},
   "outputs": [
    {
     "data": {
      "text/plain": [
       "scipy.sparse.csr.csr_matrix"
      ]
     },
     "execution_count": 16,
     "metadata": {},
     "output_type": "execute_result"
    }
   ],
   "source": [
    "type(A)"
   ]
  },
  {
   "cell_type": "code",
   "execution_count": 16,
   "metadata": {},
   "outputs": [
    {
     "ename": "NameError",
     "evalue": "name 'g' is not defined",
     "output_type": "error",
     "traceback": [
      "\u001b[1;31m---------------------------------------------------------------------------\u001b[0m",
      "\u001b[1;31mNameError\u001b[0m                                 Traceback (most recent call last)",
      "\u001b[1;32m<ipython-input-16-1ccf9c658e80>\u001b[0m in \u001b[0;36m<module>\u001b[1;34m()\u001b[0m\n\u001b[1;32m----> 1\u001b[1;33m \u001b[0mx\u001b[0m \u001b[1;33m=\u001b[0m \u001b[0mg\u001b[0m\u001b[1;33m(\u001b[0m\u001b[0mA\u001b[0m\u001b[1;33m.\u001b[0m\u001b[0mtodense\u001b[0m\u001b[1;33m(\u001b[0m\u001b[1;33m)\u001b[0m\u001b[1;33m,\u001b[0m \u001b[0mB\u001b[0m\u001b[1;33m.\u001b[0m\u001b[0mtodense\u001b[0m\u001b[1;33m(\u001b[0m\u001b[1;33m)\u001b[0m\u001b[1;33m)\u001b[0m\u001b[1;33m\u001b[0m\u001b[0m\n\u001b[0m",
      "\u001b[1;31mNameError\u001b[0m: name 'g' is not defined"
     ]
    }
   ],
   "source": [
    "x = g(A.todense(), B.todense())"
   ]
  },
  {
   "cell_type": "code",
   "execution_count": 17,
   "metadata": {},
   "outputs": [
    {
     "ename": "NameError",
     "evalue": "name 'pg' is not defined",
     "output_type": "error",
     "traceback": [
      "\u001b[1;31m---------------------------------------------------------------------------\u001b[0m",
      "\u001b[1;31mNameError\u001b[0m                                 Traceback (most recent call last)",
      "\u001b[1;32m<ipython-input-17-6ecc90b5131a>\u001b[0m in \u001b[0;36m<module>\u001b[1;34m()\u001b[0m\n\u001b[1;32m----> 1\u001b[1;33m \u001b[0mpsedu_x\u001b[0m \u001b[1;33m=\u001b[0m \u001b[0mpg\u001b[0m\u001b[1;33m(\u001b[0m\u001b[0mA\u001b[0m\u001b[1;33m.\u001b[0m\u001b[0mtodense\u001b[0m\u001b[1;33m(\u001b[0m\u001b[1;33m)\u001b[0m\u001b[1;33m,\u001b[0m \u001b[0mB\u001b[0m\u001b[1;33m.\u001b[0m\u001b[0mtodense\u001b[0m\u001b[1;33m(\u001b[0m\u001b[1;33m)\u001b[0m\u001b[1;33m)\u001b[0m\u001b[1;33m\u001b[0m\u001b[0m\n\u001b[0m",
      "\u001b[1;31mNameError\u001b[0m: name 'pg' is not defined"
     ]
    }
   ],
   "source": [
    "psedu_x = pg(A.todense(), B.todense())"
   ]
  },
  {
   "cell_type": "code",
   "execution_count": 18,
   "metadata": {
    "collapsed": true
   },
   "outputs": [],
   "source": [
    "a = A.todense()\n",
    "ata = np.matmul(a.T, a)"
   ]
  },
  {
   "cell_type": "code",
   "execution_count": 19,
   "metadata": {},
   "outputs": [
    {
     "data": {
      "text/plain": [
       "(11064, 11064)"
      ]
     },
     "execution_count": 19,
     "metadata": {},
     "output_type": "execute_result"
    }
   ],
   "source": [
    "ata.shape"
   ]
  },
  {
   "cell_type": "code",
   "execution_count": null,
   "metadata": {
    "collapsed": true
   },
   "outputs": [],
   "source": [
    "matrix_rank(ata)"
   ]
  },
  {
   "cell_type": "code",
   "execution_count": null,
   "metadata": {
    "collapsed": true
   },
   "outputs": [],
   "source": [
    "print(datetime.datetime().now())"
   ]
  },
  {
   "cell_type": "code",
   "execution_count": 20,
   "metadata": {
    "collapsed": true
   },
   "outputs": [],
   "source": [
    "import numpy as np\n",
    "from numpy.linalg import matrix_rank"
   ]
  },
  {
   "cell_type": "code",
   "execution_count": null,
   "metadata": {
    "collapsed": true
   },
   "outputs": [],
   "source": [
    "print(datetime.datetime.now())\n",
    "math_helper.matrix_rank(ata)\n",
    "print(datetime.datetime.now())"
   ]
  },
  {
   "cell_type": "code",
   "execution_count": null,
   "metadata": {
    "collapsed": true
   },
   "outputs": [],
   "source": []
  },
  {
   "cell_type": "code",
   "execution_count": null,
   "metadata": {
    "collapsed": true
   },
   "outputs": [],
   "source": [
    "def f():\n",
    "    n_dims = source.n_dims\n",
    "    h_dims = n_dims + 1\n",
    "    n = source.points.shape[0]\n",
    "    X_prev = np.tile(np.zeros((n_dims, h_dims)), n).T\n",
    "    edge_tris = source.boundary_tri_index()\n",
    "    trilist = source.trilist\n",
    "    target_tri_normals = target.tri_normals()\n",
    "\n",
    "    # we need to prepare some indices for efficient construction of the D sparse matrix.\n",
    "    row = np.hstack((np.repeat(np.arange(n)[:, None], n_dims, axis=1).ravel(), np.arange(n)))\n",
    "    x = np.arange(n * h_dims).reshape((n, h_dims))\n",
    "    col = np.hstack((x[:, :n_dims].ravel(), x[:, n_dims]))\n",
    "    ones = np.ones(n)\n",
    "    alpha_M_kron_G = alpha * M_kron_G\n",
    "\n",
    "    # start iteration\n",
    "    iter_ = 0\n",
    "    while iter < 1:\n",
    "        iter_ += 1\n",
    "        # find nearest neighbour and the normals\n",
    "        U, tri_indices = closest_points_on_target(v_i)\n",
    "\n",
    "        w_i_e = np.in1d(tri_indices, edge_tris, invert=True)\n",
    "            \n",
    "        v_i_tm = TriMesh(v_i, trilist=trilist)\n",
    "        v_i_n = v_i_tm.vertex_normals()\n",
    "        # Extract the corresponding normals from the target\n",
    "        u_i_n = target_tri_normals[tri_indices]\n",
    "        # If the dot of the normals is lt 0.9 don't contrib to deformation\n",
    "        w_i_n = (u_i_n * v_i_n).sum(axis=1) > 0.9\n",
    "        w_i = w_i_n\n",
    "\n",
    "        # Build the sparse diagonal weight matrix\n",
    "        W = sp.diags(np.array(w_i).astype(np.float)[None, :], [0])\n",
    "\n",
    "        data = np.hstack((v_i.ravel(), ones))\n",
    "        D = sp.coo_matrix((data, (row, col)))\n",
    "\n",
    "        to_stack_A = [alpha_M_kron_G, W.dot(D)]\n",
    "        to_stack_B = [np.zeros((alpha_M_kron_G.shape[0], n_dims)), U * w_i[:, None]]  # nullify nearest points by w_i\n",
    "\n",
    "        A = sp.vstack(to_stack_A).tocsr()\n",
    "        B = sp.vstack(to_stack_B).tocsr()\n",
    "        X = math_helper.solve(A, B)\n",
    "\n",
    "        # deform template\n",
    "        v_i = D.dot(X)\n",
    "\n",
    "        err = np.linalg.norm(X_prev - X, ord='fro')\n",
    "        regularized_err = err / np.sqrt(np.size(X_prev))\n",
    "\n",
    "        X_prev = X\n",
    "\n",
    "        current_instance = source.copy()\n",
    "        current_instance.points = v_i.copy()\n",
    "\n",
    "        if regularized_err < self.eps:\n",
    "            break\n",
    "\n",
    "    return current_instance"
   ]
  },
  {
   "cell_type": "code",
   "execution_count": 15,
   "metadata": {
    "collapsed": true
   },
   "outputs": [],
   "source": [
    "def g(A, B):\n",
    "    print(datetime.datetime.now())\n",
    "    a_T_a_I = np.linalg.inv(np.add(np.matmul(A.T, A), 0.5 * np.eye(A.shape[1])))\n",
    "    x = np.matmul(np.matmul(a_T_a_I, A.T), B)\n",
    "    print(datetime.datetime.now())\n",
    "    return x"
   ]
  },
  {
   "cell_type": "code",
   "execution_count": 25,
   "metadata": {
    "collapsed": true
   },
   "outputs": [],
   "source": [
    "def pg(A, B):\n",
    "    print(datetime.datetime.now())\n",
    "    a_T_a_I = np.linalg.pinv(np.matmul(A.T, A))\n",
    "    x = np.matmul(np.matmul(a_T_a_I, A.T), B)\n",
    "    print(datetime.datetime.now())\n",
    "    return x"
   ]
  },
  {
   "cell_type": "code",
   "execution_count": 23,
   "metadata": {},
   "outputs": [
    {
     "data": {
      "text/plain": [
       "<13830x11064 sparse matrix of type '<class 'numpy.float64'>'\n",
       "\twith 28816 stored elements in Compressed Sparse Row format>"
      ]
     },
     "execution_count": 23,
     "metadata": {},
     "output_type": "execute_result"
    }
   ],
   "source": [
    "A"
   ]
  },
  {
   "cell_type": "code",
   "execution_count": 28,
   "metadata": {},
   "outputs": [
    {
     "ename": "TypeError",
     "evalue": "Object arrays are not currently supported",
     "output_type": "error",
     "traceback": [
      "\u001b[1;31m---------------------------------------------------------------------------\u001b[0m",
      "\u001b[1;31mTypeError\u001b[0m                                 Traceback (most recent call last)",
      "\u001b[1;32m<ipython-input-28-6fc8103eff9c>\u001b[0m in \u001b[0;36m<module>\u001b[1;34m()\u001b[0m\n\u001b[1;32m----> 1\u001b[1;33m \u001b[0mnp\u001b[0m\u001b[1;33m.\u001b[0m\u001b[0mmatmul\u001b[0m\u001b[1;33m(\u001b[0m\u001b[0mA\u001b[0m\u001b[1;33m.\u001b[0m\u001b[0mT\u001b[0m\u001b[1;33m,\u001b[0m \u001b[0mA\u001b[0m\u001b[1;33m)\u001b[0m\u001b[1;33m\u001b[0m\u001b[0m\n\u001b[0m",
      "\u001b[1;31mTypeError\u001b[0m: Object arrays are not currently supported"
     ]
    }
   ],
   "source": [
    "np.matmul(A.T, A)"
   ]
  },
  {
   "cell_type": "code",
   "execution_count": 29,
   "metadata": {},
   "outputs": [
    {
     "data": {
      "text/plain": [
       "<13830x11064 sparse matrix of type '<class 'numpy.float64'>'\n",
       "\twith 28816 stored elements in Compressed Sparse Row format>"
      ]
     },
     "execution_count": 29,
     "metadata": {},
     "output_type": "execute_result"
    }
   ],
   "source": [
    "A"
   ]
  },
  {
   "cell_type": "code",
   "execution_count": null,
   "metadata": {
    "collapsed": true
   },
   "outputs": [],
   "source": []
  }
 ],
 "metadata": {
  "kernelspec": {
   "display_name": "Python 3",
   "language": "python",
   "name": "python3"
  },
  "language_info": {
   "codemirror_mode": {
    "name": "ipython",
    "version": 3
   },
   "file_extension": ".py",
   "mimetype": "text/x-python",
   "name": "python",
   "nbconvert_exporter": "python",
   "pygments_lexer": "ipython3",
   "version": "3.5.4"
  }
 },
 "nbformat": 4,
 "nbformat_minor": 2
}
