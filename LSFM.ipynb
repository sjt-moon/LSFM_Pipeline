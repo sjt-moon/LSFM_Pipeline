{
 "cells": [
  {
   "cell_type": "markdown",
   "metadata": {},
   "source": [
    "# 1. Loader"
   ]
  },
  {
   "cell_type": "code",
   "execution_count": 2,
   "metadata": {},
   "outputs": [
    {
     "ename": "ImportError",
     "evalue": "No module named 'scikits'",
     "output_type": "error",
     "traceback": [
      "\u001b[1;31m---------------------------------------------------------------------------\u001b[0m",
      "\u001b[1;31mImportError\u001b[0m                               Traceback (most recent call last)",
      "\u001b[1;32m<ipython-input-2-34cfb4bc63cc>\u001b[0m in \u001b[0;36m<module>\u001b[1;34m()\u001b[0m\n\u001b[1;32m----> 1\u001b[1;33m \u001b[1;32mfrom\u001b[0m \u001b[0mhelper\u001b[0m \u001b[1;32mimport\u001b[0m \u001b[1;33m*\u001b[0m\u001b[1;33m\u001b[0m\u001b[0m\n\u001b[0m\u001b[0;32m      2\u001b[0m \u001b[1;32mfrom\u001b[0m \u001b[0malgorithms\u001b[0m \u001b[1;32mimport\u001b[0m \u001b[1;33m*\u001b[0m\u001b[1;33m\u001b[0m\u001b[0m\n\u001b[0;32m      3\u001b[0m \u001b[1;32mimport\u001b[0m \u001b[0mmenpo3d\u001b[0m\u001b[1;33m\u001b[0m\u001b[0m\n\u001b[0;32m      4\u001b[0m \u001b[1;32mfrom\u001b[0m \u001b[0mimportlib\u001b[0m \u001b[1;32mimport\u001b[0m \u001b[0mreload\u001b[0m\u001b[1;33m\u001b[0m\u001b[0m\n\u001b[0;32m      5\u001b[0m \u001b[1;32mimport\u001b[0m \u001b[0mdatetime\u001b[0m\u001b[1;33m\u001b[0m\u001b[0m\n",
      "\u001b[1;32mD:\\Kneron\\LSFM_Pipeline\\helper\\math_helper.py\u001b[0m in \u001b[0;36m<module>\u001b[1;34m()\u001b[0m\n\u001b[0;32m      2\u001b[0m \u001b[1;32mimport\u001b[0m \u001b[0mnumpy\u001b[0m \u001b[1;32mas\u001b[0m \u001b[0mnp\u001b[0m\u001b[1;33m\u001b[0m\u001b[0m\n\u001b[0;32m      3\u001b[0m \u001b[1;32mfrom\u001b[0m \u001b[0mscipy\u001b[0m \u001b[1;32mimport\u001b[0m \u001b[0msparse\u001b[0m\u001b[1;33m\u001b[0m\u001b[0m\n\u001b[1;32m----> 4\u001b[1;33m \u001b[1;32mfrom\u001b[0m \u001b[0mscikits\u001b[0m \u001b[1;32mimport\u001b[0m \u001b[0mumfpack\u001b[0m\u001b[1;33m\u001b[0m\u001b[0m\n\u001b[0m\u001b[0;32m      5\u001b[0m \u001b[1;33m\u001b[0m\u001b[0m\n\u001b[0;32m      6\u001b[0m \u001b[1;33m\u001b[0m\u001b[0m\n",
      "\u001b[1;31mImportError\u001b[0m: No module named 'scikits'"
     ]
    }
   ],
   "source": [
    "from helper import *\n",
    "from algorithms import *\n",
    "import menpo3d\n",
    "from importlib import reload\n",
    "import datetime\n",
    "import numpy as np\n",
    "import importlib\n",
    "from scipy import sparse\n",
    "import time\n",
    "import matplotlib.pyplot as plt\n",
    "import warnings\n",
    "\n",
    "# %matplotlib qt"
   ]
  },
  {
   "cell_type": "markdown",
   "metadata": {},
   "source": [
    "First load the BFM mean model as the target mesh.\n",
    "\n",
    "On shark, please comment on `%matplotlib qt` and all `mesh.view()` codes, as shark does not provides these viewings. If you are on your laptop, please un-comment these and help yourself viewing 3D faces."
   ]
  },
  {
   "cell_type": "code",
   "execution_count": 2,
   "metadata": {
    "collapsed": true
   },
   "outputs": [],
   "source": [
    "bfm_mean = loader.get_mean_model(\"../BFM.mat\")\n",
    "#bfm_mean.view()"
   ]
  },
  {
   "cell_type": "markdown",
   "metadata": {},
   "source": [
    "You should see\n",
    "\n",
    "<img src=\"./BFM_mean.png\">"
   ]
  },
  {
   "cell_type": "markdown",
   "metadata": {},
   "source": [
    "Then load the source mesh to do the transformation."
   ]
  },
  {
   "cell_type": "code",
   "execution_count": 7,
   "metadata": {
    "collapsed": true
   },
   "outputs": [],
   "source": [
    "source = loader.get_mesh(\"../lsfm-ori/1/1_0001.obj\")\n",
    "#source.view()"
   ]
  },
  {
   "cell_type": "markdown",
   "metadata": {},
   "source": [
    "You shall see\n",
    "<img src=\"./source_mesh.png\">"
   ]
  },
  {
   "cell_type": "markdown",
   "metadata": {},
   "source": [
    "# 2. Test matrix norm solver"
   ]
  },
  {
   "cell_type": "markdown",
   "metadata": {},
   "source": [
    "To be concise, suprress all warnings temporarily."
   ]
  },
  {
   "cell_type": "code",
   "execution_count": 8,
   "metadata": {
    "collapsed": true
   },
   "outputs": [],
   "source": [
    "warnings.filterwarnings(\"ignore\")"
   ]
  },
  {
   "cell_type": "code",
   "execution_count": 5,
   "metadata": {
    "collapsed": true
   },
   "outputs": [],
   "source": [
    "#importlib.reload(math_helper)"
   ]
  },
  {
   "cell_type": "markdown",
   "metadata": {},
   "source": [
    "By default, we use `umfpack` solver."
   ]
  },
  {
   "cell_type": "code",
   "execution_count": 6,
   "metadata": {},
   "outputs": [
    {
     "name": "stdout",
     "output_type": "stream",
     "text": [
      "iter: 1, error: 400126.60\n",
      "iter: 2, error: 0.00\n",
      "1.0004106519311116e-17\n",
      "\n",
      " time spent: 30.2 seconds\n"
     ]
    }
   ],
   "source": [
    "A = np.random.random((4000,5000))\n",
    "B = np.random.random((4000,300))\n",
    "solver = math_helper.Solver(A, B)\n",
    "\n",
    "start = time.time()\n",
    "X = solver.solve()\n",
    "error = np.sum((A @ X - B) ** 2)\n",
    "print(error)\n",
    "\n",
    "print(\"\\n time spent: {:.1f} seconds\".format(time.time() - start))"
   ]
  },
  {
   "cell_type": "markdown",
   "metadata": {},
   "source": [
    "On comparison, with naive solver."
   ]
  },
  {
   "cell_type": "code",
   "execution_count": 71,
   "metadata": {},
   "outputs": [
    {
     "name": "stdout",
     "output_type": "stream",
     "text": [
      "iter: 1, error: 400080.04\n",
      "solving linear equation...\n",
      "2018-11-12 14:31:20.359657\n",
      "inversing matrix\n",
      "2018-11-12 14:31:35.188524\n",
      "iter: 2, error: 416857598.48\n",
      "solving linear equation...\n",
      "2018-11-12 14:31:37.813341\n",
      "inversing matrix\n",
      "2018-11-12 14:31:52.670348\n",
      "iter: 3, error: 416857598.48\n",
      "solving linear equation...\n",
      "2018-11-12 14:31:55.261406\n",
      "inversing matrix\n",
      "2018-11-12 14:32:10.098824\n",
      "iter: 4, error: 416857598.48\n",
      "solving linear equation...\n",
      "2018-11-12 14:32:12.706352\n",
      "inversing matrix\n",
      "2018-11-12 14:32:27.537560\n",
      "iter: 5, error: 416857598.48\n",
      "solving linear equation...\n",
      "2018-11-12 14:32:30.128560\n",
      "inversing matrix\n",
      "2018-11-12 14:32:44.951544\n",
      "iter: 6, error: 416857598.48\n",
      "solving linear equation...\n",
      "2018-11-12 14:32:47.561703\n",
      "inversing matrix\n",
      "2018-11-12 14:33:02.409826\n",
      "iter: 7, error: 416857598.48\n",
      "solving linear equation...\n",
      "2018-11-12 14:33:05.005904\n",
      "inversing matrix\n",
      "2018-11-12 14:33:19.844723\n",
      "iter: 8, error: 416857598.48\n",
      "solving linear equation...\n",
      "2018-11-12 14:33:22.436402\n",
      "inversing matrix\n",
      "2018-11-12 14:33:37.277187\n",
      "iter: 9, error: 416857598.48\n",
      "solving linear equation...\n",
      "2018-11-12 14:33:39.890197\n",
      "inversing matrix\n",
      "2018-11-12 14:33:54.757260\n",
      "iter: 10, error: 416857598.48\n",
      "solving linear equation...\n",
      "2018-11-12 14:33:57.348386\n",
      "inversing matrix\n",
      "2018-11-12 14:34:12.170858\n",
      "416857598.4793583\n",
      "\n",
      " time spent: 174.6 seconds\n"
     ]
    }
   ],
   "source": [
    "A = np.random.random((4000,5000))\n",
    "B = np.random.random((4000,300))\n",
    "solver = math_helper.Solver(A, B, solver=\"naive\")\n",
    "\n",
    "start = time.time()\n",
    "X = solver.solve()\n",
    "error = np.sum((A @ X - B) ** 2)\n",
    "print(error)\n",
    "\n",
    "print(\"\\n time spent: {:.1f} seconds\".format(time.time() - start))"
   ]
  },
  {
   "cell_type": "markdown",
   "metadata": {},
   "source": [
    "| solver  | umfpack | naive |\n",
    "|------|:------------:|----:|\n",
    "| time | 30.2s | 174.6s |"
   ]
  },
  {
   "cell_type": "code",
   "execution_count": null,
   "metadata": {
    "collapsed": true
   },
   "outputs": [],
   "source": []
  },
  {
   "cell_type": "markdown",
   "metadata": {},
   "source": [
    "# 3. Non-rigid icp\n",
    "\n",
    "First, test non-rigid icp algorithm."
   ]
  },
  {
   "cell_type": "code",
   "execution_count": 6,
   "metadata": {
    "collapsed": true
   },
   "outputs": [],
   "source": [
    "target = loader.get_mesh(\"../lsfm-ori/1/1_0002.obj\")\n",
    "#target.view()"
   ]
  },
  {
   "cell_type": "code",
   "execution_count": 7,
   "metadata": {},
   "outputs": [
    {
     "name": "stdout",
     "output_type": "stream",
     "text": [
      "Epoch 1 with stiffness 50\n",
      " - 1 regularized_error: 125643.643 \t 0.000\n",
      " - 2 regularized_error: 125643.643 \t 474.533\n",
      " - 3 regularized_error: 6.096 \t 595.409\n",
      " - 4 regularized_error: 68.296 \t 441.307\n",
      " - 5 regularized_error: 69.013 \t 303.596\n",
      "Epoch 2 with stiffness 20\n",
      " - 1 regularized_error: 18.755 \t 575.332\n",
      " - 2 regularized_error: 39.527 \t 681.874\n",
      " - 3 regularized_error: 34.161 \t 471.699\n",
      " - 4 regularized_error: 13.974 \t 339.109\n",
      " - 5 regularized_error: 17.149 \t 284.134\n",
      "Epoch 3 with stiffness 5\n",
      " - 1 regularized_error: 122.163 \t 568.132\n",
      " - 2 regularized_error: 126.928 \t 531.673\n",
      " - 3 regularized_error: 140.772 \t 333.243\n",
      " - 4 regularized_error: 838.006 \t 532.407\n",
      " - 5 regularized_error: 826.657 \t 313.707\n",
      "Epoch 4 with stiffness 2\n",
      " - 1 regularized_error: 112.611 \t 488.828\n",
      " - 2 regularized_error: 136.500 \t 416.373\n",
      " - 3 regularized_error: 2579.018 \t 469.719\n",
      " - 4 regularized_error: 2584.025 \t 613.301\n",
      " - 5 regularized_error: 966.479 \t 777.046\n",
      "Epoch 5 with stiffness 0.8\n",
      " - 1 regularized_error: 189.493 \t 433.958\n",
      " - 2 regularized_error: 1561.632 \t 329.369\n",
      " - 3 regularized_error: 5300.511 \t 219.227\n",
      " - 4 regularized_error: 5067.275 \t 344.619\n",
      " - 5 regularized_error: 700.963 \t 685.289\n",
      "Epoch 6 with stiffness 0.5\n",
      " - 1 regularized_error: 1608.235 \t 139.593\n",
      " - 2 regularized_error: 1677.831 \t 364.218\n",
      " - 3 regularized_error: 1124.187 \t 278.922\n",
      " - 4 regularized_error: 1204.572 \t 340.695\n",
      " - 5 regularized_error: 7614.179 \t 199.942\n",
      "Epoch 7 with stiffness 0.35\n",
      " - 1 regularized_error: 1257.701 \t 109.515\n",
      " - 2 regularized_error: 1450.833 \t 136.700\n",
      " - 3 regularized_error: 768.469 \t 0.000\n",
      " - 4 regularized_error: 779.120 \t 207.960\n",
      " - 5 regularized_error: 415532.359 \t 0.000\n",
      "Epoch 8 with stiffness 0.2\n",
      " - 1 regularized_error: 37775.927 \t 0.000\n",
      " - 2 regularized_error: 37823.298 \t 0.000\n",
      " - 3 regularized_error: 56118.905 \t 0.000\n",
      " - 4 regularized_error: 96823.487 \t 0.000\n",
      " - 5 regularized_error: 78939.888 \t 0.000\n"
     ]
    }
   ],
   "source": [
    "fitter = no_landmark_nicp.NonRigidIcp(max_iter=5)\n",
    "transformed_source, training_info = fitter.non_rigid_icp(source, bfm_mean)"
   ]
  },
  {
   "cell_type": "markdown",
   "metadata": {},
   "source": [
    "After 2 epoches with each of 5 iterations, we could see\n",
    "<img src=\"./face_after_5_iters.png\">"
   ]
  },
  {
   "cell_type": "markdown",
   "metadata": {},
   "source": [
    "The problem here is though, after **5 epoches**, with each of **5 iterations**, it's also this shape."
   ]
  },
  {
   "cell_type": "code",
   "execution_count": 9,
   "metadata": {},
   "outputs": [
    {
     "name": "stdout",
     "output_type": "stream",
     "text": [
      "Epoch 1 with stiffness 50\n",
      " - 1 regularized_error: 514747549.967 \t 0.000\n",
      " - 2 regularized_error: 543911950.617 \t 0.000\n",
      " - 3 regularized_error: 175713317.313 \t 0.000\n",
      " - 4 regularized_error: 380629.114 \t 0.000\n",
      " - 5 regularized_error: 380691.136 \t 0.000\n",
      "Epoch 2 with stiffness 20\n",
      " - 1 regularized_error: 2076.269 \t 0.000\n",
      " - 2 regularized_error: 131162.191 \t 0.000\n",
      " - 3 regularized_error: 132506.869 \t 0.000\n",
      " - 4 regularized_error: 18942.206 \t 0.000\n",
      " - 5 regularized_error: 1049.054 \t 0.000\n",
      "Epoch 3 with stiffness 5\n",
      " - 1 regularized_error: 57425430.371 \t 0.000\n",
      " - 2 regularized_error: 57425430.627 \t 0.000\n",
      " - 3 regularized_error: 9682.297 \t 0.000\n",
      " - 4 regularized_error: 58043999.523 \t 0.000\n",
      " - 5 regularized_error: 66784535.171 \t 0.000\n",
      "Epoch 4 with stiffness 2\n",
      " - 1 regularized_error: 8782087.986 \t 0.000\n",
      " - 2 regularized_error: 8782090.981 \t 0.000\n",
      " - 3 regularized_error: 44103.526 \t 0.000\n",
      " - 4 regularized_error: 45703.391 \t 0.000\n",
      " - 5 regularized_error: 63586991.587 \t 0.000\n",
      "Epoch 5 with stiffness 0.8\n",
      " - 1 regularized_error: 1338426.030 \t 0.000\n",
      " - 2 regularized_error: 1677304.639 \t 0.000\n",
      " - 3 regularized_error: 1013969.868 \t 0.000\n",
      " - 4 regularized_error: 128609.803 \t 0.000\n",
      " - 5 regularized_error: 4445778.463 \t 0.000\n",
      "Epoch 6 with stiffness 0.5\n",
      " - 1 regularized_error: 658.033 \t 0.000\n",
      " - 2 regularized_error: 902.587 \t 0.000\n",
      " - 3 regularized_error: 60685.622 \t 0.000\n",
      " - 4 regularized_error: 940543.345 \t 0.000\n",
      " - 5 regularized_error: 942419.469 \t 0.000\n",
      "Epoch 7 with stiffness 0.35\n",
      " - 1 regularized_error: 851339254.574 \t 0.059\n",
      " - 2 regularized_error: 851339254.627 \t 0.000\n",
      " - 3 regularized_error: 37130.818 \t 0.000\n",
      " - 4 regularized_error: 212297.775 \t 0.000\n",
      " - 5 regularized_error: 212034.817 \t 0.000\n",
      "Epoch 8 with stiffness 0.2\n",
      " - 1 regularized_error: 515.955 \t 0.000\n",
      " - 2 regularized_error: 795.268 \t 0.000\n",
      " - 3 regularized_error: 1175.954 \t 0.000\n",
      " - 4 regularized_error: 1111.036 \t 0.000\n",
      " - 5 regularized_error: 46281.674 \t 0.000\n"
     ]
    }
   ],
   "source": [
    "fitter2 = no_landmark_nicp.NonRigidIcp(max_iter=5)\n",
    "transformed_source2, training_info2 = fitter.non_rigid_icp(source, target)"
   ]
  },
  {
   "cell_type": "markdown",
   "metadata": {},
   "source": [
    "Now store the mesh."
   ]
  },
  {
   "cell_type": "code",
   "execution_count": 10,
   "metadata": {
    "collapsed": true
   },
   "outputs": [],
   "source": [
    "import pickle as pkl\n",
    "\n",
    "with open('tr.pkl', 'wb') as fw:\n",
    "    pkl.dump({'points': transformed_source.points, 'trilist': transformed_source.trilist}, fw)"
   ]
  },
  {
   "cell_type": "markdown",
   "metadata": {},
   "source": [
    "# Test Pipeline"
   ]
  },
  {
   "cell_type": "code",
   "execution_count": null,
   "metadata": {
    "collapsed": true
   },
   "outputs": [],
   "source": []
  },
  {
   "cell_type": "code",
   "execution_count": null,
   "metadata": {
    "collapsed": true
   },
   "outputs": [],
   "source": []
  },
  {
   "cell_type": "code",
   "execution_count": null,
   "metadata": {
    "collapsed": true
   },
   "outputs": [],
   "source": []
  }
 ],
 "metadata": {
  "kernelspec": {
   "display_name": "Python 3",
   "language": "python",
   "name": "python3"
  },
  "language_info": {
   "codemirror_mode": {
    "name": "ipython",
    "version": 3
   },
   "file_extension": ".py",
   "mimetype": "text/x-python",
   "name": "python",
   "nbconvert_exporter": "python",
   "pygments_lexer": "ipython3",
   "version": "3.5.4"
  }
 },
 "nbformat": 4,
 "nbformat_minor": 2
}
