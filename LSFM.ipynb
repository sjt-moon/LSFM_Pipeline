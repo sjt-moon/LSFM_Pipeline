{
 "cells": [
  {
   "cell_type": "markdown",
   "metadata": {},
   "source": [
    "# 1. Loader"
   ]
  },
  {
   "cell_type": "code",
   "execution_count": 1,
   "metadata": {},
   "outputs": [],
   "source": [
    "from helper import *\n",
    "from algorithms import *\n",
    "import menpo3d\n",
    "from importlib import reload\n",
    "import datetime\n",
    "import numpy as np\n",
    "import importlib\n",
    "from scipy import sparse\n",
    "import time\n",
    "import matplotlib.pyplot as plt\n",
    "import warnings\n",
    "\n",
    "# %matplotlib qt"
   ]
  },
  {
   "cell_type": "markdown",
   "metadata": {},
   "source": [
    "First load the BFM mean model as the target mesh.\n",
    "\n",
    "On shark, please comment on `%matplotlib qt` and all `mesh.view()` codes, as shark does not provides these viewings. If you are on your laptop, please un-comment these and help yourself viewing 3D faces."
   ]
  },
  {
   "cell_type": "code",
   "execution_count": 2,
   "metadata": {},
   "outputs": [],
   "source": [
    "#bfm_mean = loader.get_mean_model(\"../BFM.mat\")\n",
    "#bfm_mean.view()"
   ]
  },
  {
   "cell_type": "markdown",
   "metadata": {},
   "source": [
    "You should see\n",
    "\n",
    "<img src=\"./BFM_mean.png\">"
   ]
  },
  {
   "cell_type": "markdown",
   "metadata": {},
   "source": [
    "Then load the source mesh to do the transformation."
   ]
  },
  {
   "cell_type": "code",
   "execution_count": 3,
   "metadata": {},
   "outputs": [],
   "source": [
    "source = loader.get_mesh(\"../lsfm-ori/1/1_0001.obj\")\n",
    "#source.view()"
   ]
  },
  {
   "cell_type": "markdown",
   "metadata": {},
   "source": [
    "You shall see\n",
    "<img src=\"./source_mesh.png\">"
   ]
  },
  {
   "cell_type": "markdown",
   "metadata": {},
   "source": [
    "# 2. Test matrix norm solver"
   ]
  },
  {
   "cell_type": "markdown",
   "metadata": {},
   "source": [
    "To be concise, suprress all warnings temporarily."
   ]
  },
  {
   "cell_type": "code",
   "execution_count": 4,
   "metadata": {},
   "outputs": [],
   "source": [
    "warnings.filterwarnings(\"ignore\")"
   ]
  },
  {
   "cell_type": "code",
   "execution_count": 5,
   "metadata": {
    "collapsed": true
   },
   "outputs": [],
   "source": [
    "#importlib.reload(math_helper)"
   ]
  },
  {
   "cell_type": "markdown",
   "metadata": {},
   "source": [
    "By default, we use `umfpack` solver."
   ]
  },
  {
   "cell_type": "code",
   "execution_count": 6,
   "metadata": {},
   "outputs": [
    {
     "name": "stdout",
     "output_type": "stream",
     "text": [
      "iter: 1, error: 400126.60\n",
      "iter: 2, error: 0.00\n",
      "1.0004106519311116e-17\n",
      "\n",
      " time spent: 30.2 seconds\n"
     ]
    }
   ],
   "source": [
    "A = np.random.random((4000,5000))\n",
    "B = np.random.random((4000,300))\n",
    "solver = math_helper.Solver(A, B)\n",
    "\n",
    "start = time.time()\n",
    "X = solver.solve()\n",
    "error = np.sum((A @ X - B) ** 2)\n",
    "print(error)\n",
    "\n",
    "print(\"\\n time spent: {:.1f} seconds\".format(time.time() - start))"
   ]
  },
  {
   "cell_type": "markdown",
   "metadata": {},
   "source": [
    "On comparison, with naive solver."
   ]
  },
  {
   "cell_type": "code",
   "execution_count": 71,
   "metadata": {},
   "outputs": [
    {
     "name": "stdout",
     "output_type": "stream",
     "text": [
      "iter: 1, error: 400080.04\n",
      "solving linear equation...\n",
      "2018-11-12 14:31:20.359657\n",
      "inversing matrix\n",
      "2018-11-12 14:31:35.188524\n",
      "iter: 2, error: 416857598.48\n",
      "solving linear equation...\n",
      "2018-11-12 14:31:37.813341\n",
      "inversing matrix\n",
      "2018-11-12 14:31:52.670348\n",
      "iter: 3, error: 416857598.48\n",
      "solving linear equation...\n",
      "2018-11-12 14:31:55.261406\n",
      "inversing matrix\n",
      "2018-11-12 14:32:10.098824\n",
      "iter: 4, error: 416857598.48\n",
      "solving linear equation...\n",
      "2018-11-12 14:32:12.706352\n",
      "inversing matrix\n",
      "2018-11-12 14:32:27.537560\n",
      "iter: 5, error: 416857598.48\n",
      "solving linear equation...\n",
      "2018-11-12 14:32:30.128560\n",
      "inversing matrix\n",
      "2018-11-12 14:32:44.951544\n",
      "iter: 6, error: 416857598.48\n",
      "solving linear equation...\n",
      "2018-11-12 14:32:47.561703\n",
      "inversing matrix\n",
      "2018-11-12 14:33:02.409826\n",
      "iter: 7, error: 416857598.48\n",
      "solving linear equation...\n",
      "2018-11-12 14:33:05.005904\n",
      "inversing matrix\n",
      "2018-11-12 14:33:19.844723\n",
      "iter: 8, error: 416857598.48\n",
      "solving linear equation...\n",
      "2018-11-12 14:33:22.436402\n",
      "inversing matrix\n",
      "2018-11-12 14:33:37.277187\n",
      "iter: 9, error: 416857598.48\n",
      "solving linear equation...\n",
      "2018-11-12 14:33:39.890197\n",
      "inversing matrix\n",
      "2018-11-12 14:33:54.757260\n",
      "iter: 10, error: 416857598.48\n",
      "solving linear equation...\n",
      "2018-11-12 14:33:57.348386\n",
      "inversing matrix\n",
      "2018-11-12 14:34:12.170858\n",
      "416857598.4793583\n",
      "\n",
      " time spent: 174.6 seconds\n"
     ]
    }
   ],
   "source": [
    "A = np.random.random((4000,5000))\n",
    "B = np.random.random((4000,300))\n",
    "solver = math_helper.Solver(A, B, solver=\"naive\")\n",
    "\n",
    "start = time.time()\n",
    "X = solver.solve()\n",
    "error = np.sum((A @ X - B) ** 2)\n",
    "print(error)\n",
    "\n",
    "print(\"\\n time spent: {:.1f} seconds\".format(time.time() - start))"
   ]
  },
  {
   "cell_type": "markdown",
   "metadata": {},
   "source": [
    "| solver  | umfpack | naive |\n",
    "|------|:------------:|----:|\n",
    "| time | 30.2s | 174.6s |"
   ]
  },
  {
   "cell_type": "code",
   "execution_count": null,
   "metadata": {
    "collapsed": true
   },
   "outputs": [],
   "source": []
  },
  {
   "cell_type": "markdown",
   "metadata": {},
   "source": [
    "# 3. Non-rigid icp\n",
    "\n",
    "First, test non-rigid icp algorithm."
   ]
  },
  {
   "cell_type": "code",
   "execution_count": 5,
   "metadata": {},
   "outputs": [],
   "source": [
    "target = loader.get_mesh(\"../lsfm-ori/1/1_0002.obj\")\n",
    "#target.view()"
   ]
  },
  {
   "cell_type": "code",
   "execution_count": 7,
   "metadata": {},
   "outputs": [
    {
     "name": "stdout",
     "output_type": "stream",
     "text": [
      "Epoch 1 with stiffness 50\n",
      " - 1 regularized_error: 125643.643 \t 0.000\n",
      " - 2 regularized_error: 125643.643 \t 474.533\n",
      " - 3 regularized_error: 6.096 \t 595.409\n",
      " - 4 regularized_error: 68.296 \t 441.307\n",
      " - 5 regularized_error: 69.013 \t 303.596\n",
      "Epoch 2 with stiffness 20\n",
      " - 1 regularized_error: 18.755 \t 575.332\n",
      " - 2 regularized_error: 39.527 \t 681.874\n",
      " - 3 regularized_error: 34.161 \t 471.699\n",
      " - 4 regularized_error: 13.974 \t 339.109\n",
      " - 5 regularized_error: 17.149 \t 284.134\n",
      "Epoch 3 with stiffness 5\n",
      " - 1 regularized_error: 122.163 \t 568.132\n",
      " - 2 regularized_error: 126.928 \t 531.673\n",
      " - 3 regularized_error: 140.772 \t 333.243\n",
      " - 4 regularized_error: 838.006 \t 532.407\n",
      " - 5 regularized_error: 826.657 \t 313.707\n",
      "Epoch 4 with stiffness 2\n",
      " - 1 regularized_error: 112.611 \t 488.828\n",
      " - 2 regularized_error: 136.500 \t 416.373\n",
      " - 3 regularized_error: 2579.018 \t 469.719\n",
      " - 4 regularized_error: 2584.025 \t 613.301\n",
      " - 5 regularized_error: 966.479 \t 777.046\n",
      "Epoch 5 with stiffness 0.8\n",
      " - 1 regularized_error: 189.493 \t 433.958\n",
      " - 2 regularized_error: 1561.632 \t 329.369\n",
      " - 3 regularized_error: 5300.511 \t 219.227\n",
      " - 4 regularized_error: 5067.275 \t 344.619\n",
      " - 5 regularized_error: 700.963 \t 685.289\n",
      "Epoch 6 with stiffness 0.5\n",
      " - 1 regularized_error: 1608.235 \t 139.593\n",
      " - 2 regularized_error: 1677.831 \t 364.218\n",
      " - 3 regularized_error: 1124.187 \t 278.922\n",
      " - 4 regularized_error: 1204.572 \t 340.695\n",
      " - 5 regularized_error: 7614.179 \t 199.942\n",
      "Epoch 7 with stiffness 0.35\n",
      " - 1 regularized_error: 1257.701 \t 109.515\n",
      " - 2 regularized_error: 1450.833 \t 136.700\n",
      " - 3 regularized_error: 768.469 \t 0.000\n",
      " - 4 regularized_error: 779.120 \t 207.960\n",
      " - 5 regularized_error: 415532.359 \t 0.000\n",
      "Epoch 8 with stiffness 0.2\n",
      " - 1 regularized_error: 37775.927 \t 0.000\n",
      " - 2 regularized_error: 37823.298 \t 0.000\n",
      " - 3 regularized_error: 56118.905 \t 0.000\n",
      " - 4 regularized_error: 96823.487 \t 0.000\n",
      " - 5 regularized_error: 78939.888 \t 0.000\n"
     ]
    }
   ],
   "source": [
    "fitter = no_landmark_nicp.NonRigidIcp(max_iter=5)\n",
    "transformed_source, training_info = fitter.non_rigid_icp(source, bfm_mean)"
   ]
  },
  {
   "cell_type": "markdown",
   "metadata": {},
   "source": [
    "After 2 epoches with each of 5 iterations, we could see\n",
    "<img src=\"./face_after_5_iters.png\">"
   ]
  },
  {
   "cell_type": "markdown",
   "metadata": {},
   "source": [
    "The problem here is though, after **5 epoches**, with each of **5 iterations**, it's also this shape."
   ]
  },
  {
   "cell_type": "code",
   "execution_count": 6,
   "metadata": {},
   "outputs": [],
   "source": [
    "# fitter2 = no_landmark_nicp.NonRigidIcp(max_iter=5)\n",
    "# transformed_source2, training_info2 = fitter.non_rigid_icp(source, target)"
   ]
  },
  {
   "cell_type": "markdown",
   "metadata": {},
   "source": [
    "Now store the mesh."
   ]
  },
  {
   "cell_type": "code",
   "execution_count": 10,
   "metadata": {
    "collapsed": true
   },
   "outputs": [],
   "source": [
    "import pickle as pkl\n",
    "\n",
    "with open('tr.pkl', 'wb') as fw:\n",
    "    pkl.dump({'points': transformed_source.points, 'trilist': transformed_source.trilist}, fw)"
   ]
  },
  {
   "cell_type": "markdown",
   "metadata": {},
   "source": [
    "# Test Pipeline"
   ]
  },
  {
   "cell_type": "markdown",
   "metadata": {},
   "source": [
    "First we test integration of `loading` and `aligning`."
   ]
  },
  {
   "cell_type": "code",
   "execution_count": 9,
   "metadata": {},
   "outputs": [],
   "source": [
    "from pipeline import Pipeline"
   ]
  },
  {
   "cell_type": "code",
   "execution_count": 14,
   "metadata": {},
   "outputs": [
    {
     "name": "stdout",
     "output_type": "stream",
     "text": [
      "\n",
      "loading target mesh ../lsfm-ori/1/1_0001.obj\n",
      "\n"
     ]
    }
   ],
   "source": [
    "p = Pipeline(base_model_path='../lsfm-ori/1/1_0001.obj', stiffness_weights=[2, 0.8], data_weights=[None, None], max_iter=2)"
   ]
  },
  {
   "cell_type": "code",
   "execution_count": 15,
   "metadata": {},
   "outputs": [
    {
     "name": "stdout",
     "output_type": "stream",
     "text": [
      "\n",
      "loading mesh file ../lsfm-ori/1/1_0003.obj\n",
      "\n",
      "Epoch 1 with stiffness 2\n",
      " - 1 loss: 0.001 regularized_loss: 0.000  \n",
      "Epoch 2 with stiffness 0.8\n",
      " - 1 loss: 0.000 regularized_loss: 0.000  \n",
      "{'regularized_loss': [2.924586148206691e-07, 8.403758925026211e-11], 'loss': [0.0008089405285939707, 2.3244797186622499e-07]}\n",
      "\n",
      "loading mesh file ../lsfm-ori/1/1_0002.obj\n",
      "\n",
      "Epoch 1 with stiffness 2\n",
      " - 1 loss: 0.000 regularized_loss: 0.000  \n",
      "Epoch 2 with stiffness 0.8\n",
      " - 1 loss: 0.000 regularized_loss: 0.000  \n",
      "{'regularized_loss': [9.35135004499074e-12, 1.1913059882980329e-09], 'loss': [2.5865834224444386e-08, 3.2951523636323587e-06]}\n",
      "\n",
      "loading mesh file ../lsfm-ori/1/1_0001.obj\n",
      "\n",
      "Epoch 1 with stiffness 2\n",
      " - 1 loss: 0.010 regularized_loss: 0.000  \n",
      "Epoch 2 with stiffness 0.8\n",
      " - 1 loss: 0.000 regularized_loss: 0.000  \n",
      "{'regularized_loss': [3.686248632189613e-06, 1.2021548179640807e-08], 'loss': [0.01019616371663647, 3.325160226488647e-05]}\n",
      "\n",
      "loading mesh file ../lsfm-ori/1/1_0005.obj\n",
      "\n",
      "Epoch 1 with stiffness 2\n",
      " - 1 loss: 0.000 regularized_loss: 0.000  \n",
      "Epoch 2 with stiffness 0.8\n",
      " - 1 loss: 0.000 regularized_loss: 0.000  \n",
      "{'regularized_loss': [3.033831069928915e-11, 7.543578111593676e-10], 'loss': [8.391576739423377e-08, 2.0865537056668108e-06]}\n",
      "\n",
      "loading mesh file ../lsfm-ori/1/1_0007.obj\n",
      "\n",
      "Epoch 1 with stiffness 2\n",
      " - 1 loss: 0.000 regularized_loss: 0.000  \n",
      "Epoch 2 with stiffness 0.8\n",
      " - 1 loss: 0.005 regularized_loss: 0.000  \n",
      "{'regularized_loss': [3.5940344479116994e-10, 1.7654777115189127e-06], 'loss': [9.94109928292376e-07, 0.004883311350061313]}\n",
      "\n",
      "loading mesh file ../lsfm-ori/1/1_0006.obj\n",
      "\n",
      "Epoch 1 with stiffness 2\n",
      " - 1 loss: 0.000 regularized_loss: 0.000  \n",
      "Epoch 2 with stiffness 0.8\n",
      " - 1 loss: 0.000 regularized_loss: 0.000  \n",
      "{'regularized_loss': [8.283637283858779e-10, 1.5534012899871785e-09], 'loss': [2.291254072715338e-06, 4.296707968104536e-06]}\n",
      "\n",
      "loading mesh file ../lsfm-ori/1/1_0004.obj\n",
      "\n",
      "Epoch 1 with stiffness 2\n",
      " - 1 loss: 0.000 regularized_loss: 0.000  \n",
      "Epoch 2 with stiffness 0.8\n",
      " - 1 loss: 0.002 regularized_loss: 0.000  \n",
      "{'regularized_loss': [6.4012525376381495e-12, 8.541977222166696e-07], 'loss': [1.7705864519107122e-08, 0.002362710899651308]}\n",
      "\n",
      "7 meshes aligned to the target\n",
      "\n"
     ]
    }
   ],
   "source": [
    "meshes, logs = p.align(input_path='../lsfm-ori/1')"
   ]
  },
  {
   "cell_type": "markdown",
   "metadata": {},
   "source": [
    "Then we test on `PCA`s.\n",
    "\n",
    "* First PCA on number of points."
   ]
  },
  {
   "cell_type": "code",
   "execution_count": 20,
   "metadata": {},
   "outputs": [
    {
     "name": "stdout",
     "output_type": "stream",
     "text": [
      "PCA error, max number of points is too large, use 7 points instead\n"
     ]
    }
   ],
   "source": [
    "pca_meshes = p.prune_on_num_points(meshes)"
   ]
  },
  {
   "cell_type": "markdown",
   "metadata": {},
   "source": [
    "Now for each mesh, the number of points should be at most the number of meshes."
   ]
  },
  {
   "cell_type": "code",
   "execution_count": 35,
   "metadata": {},
   "outputs": [
    {
     "data": {
      "text/plain": [
       "(7, 3)"
      ]
     },
     "execution_count": 35,
     "metadata": {},
     "output_type": "execute_result"
    }
   ],
   "source": [
    "pca_meshes[0].points.shape"
   ]
  },
  {
   "cell_type": "markdown",
   "metadata": {},
   "source": [
    "* Then PCA on number of meshes."
   ]
  },
  {
   "cell_type": "code",
   "execution_count": 36,
   "metadata": {},
   "outputs": [
    {
     "name": "stdout",
     "output_type": "stream",
     "text": [
      "Allocated data matrix of size 1.15 KB (7 samples)\n",
      "Building data matrix: [==========] 100% (7/7) - done.                           \n",
      "Retaining 99.70% of eigenvalues keeps 0.997 components\n"
     ]
    }
   ],
   "source": [
    "pca_model = p.pca_prune(pca_meshes)"
   ]
  },
  {
   "cell_type": "code",
   "execution_count": 54,
   "metadata": {},
   "outputs": [
    {
     "name": "stdout",
     "output_type": "stream",
     "text": [
      "Final PCA Model:\n",
      "# of components: 6\n",
      "# of points for each mesh (3 dims total): 21\n",
      "eigen value respective ratios: [0.65075597 0.18245646 0.08223279 0.03341399 0.02759639 0.02354441]      \n",
      "eigen value accumulative ratios: [0.65075597 0.83321243 0.91544522 0.94885921 0.97645559 1.        ]\n"
     ]
    }
   ],
   "source": [
    "print(\"Final PCA Model:\\n# of components: {}\\n# of points for each mesh (3 dims total): {}\\neigen value respective ratios: {}\\\n",
    "      \\neigen value accumulative ratios: {}\"\n",
    "      .format(str(pca_model.components.shape[0]),\n",
    "             str(pca_model.components.shape[1]),\n",
    "             str(pca_model.eigenvalues_ratio()),\n",
    "             str(pca_model.eigenvalues_cumulative_ratio())))"
   ]
  },
  {
   "cell_type": "code",
   "execution_count": null,
   "metadata": {},
   "outputs": [],
   "source": []
  }
 ],
 "metadata": {
  "kernelspec": {
   "display_name": "Python 3",
   "language": "python",
   "name": "python3"
  },
  "language_info": {
   "codemirror_mode": {
    "name": "ipython",
    "version": 3
   },
   "file_extension": ".py",
   "mimetype": "text/x-python",
   "name": "python",
   "nbconvert_exporter": "python",
   "pygments_lexer": "ipython3",
   "version": "3.5.6"
  }
 },
 "nbformat": 4,
 "nbformat_minor": 2
}
