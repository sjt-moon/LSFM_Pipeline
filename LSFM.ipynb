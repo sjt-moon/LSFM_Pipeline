{
 "cells": [
  {
   "cell_type": "markdown",
   "metadata": {},
   "source": [
    "# 1. Loader"
   ]
  },
  {
   "cell_type": "code",
   "execution_count": 1,
   "metadata": {
    "collapsed": true
   },
   "outputs": [],
   "source": [
    "from helper import *\n",
    "from algorithms import *\n",
    "import menpo3d\n",
    "from importlib import reload\n",
    "import datetime\n",
    "\n",
    "# %matplotlib qt"
   ]
  },
  {
   "cell_type": "markdown",
   "metadata": {},
   "source": [
    "First load the BFM mean model as the target mesh.\n",
    "\n",
    "On shark, please comment on `%matplotlib qt` and all `mesh.view()` codes, as shark does not provides these viewings. If you are on your laptop, please un-comment these and help yourself viewing 3D faces."
   ]
  },
  {
   "cell_type": "code",
   "execution_count": 2,
   "metadata": {
    "collapsed": true
   },
   "outputs": [],
   "source": [
    "#bfm_mean = loader.get_mean_model(\"../BFM/3dmm/BFM.mat\")\n",
    "#bfm_mean.view()"
   ]
  },
  {
   "cell_type": "markdown",
   "metadata": {},
   "source": [
    "You should see\n",
    "\n",
    "<img src=\"./BFM_mean.png\">"
   ]
  },
  {
   "cell_type": "markdown",
   "metadata": {},
   "source": [
    "Then load the source mesh to do the transformation."
   ]
  },
  {
   "cell_type": "code",
   "execution_count": 3,
   "metadata": {
    "collapsed": true
   },
   "outputs": [],
   "source": [
    "source = menpo3d.io.import_mesh(\"../lsfm-ori/1/1_0001.obj\")\n",
    "#source.view()"
   ]
  },
  {
   "cell_type": "markdown",
   "metadata": {},
   "source": [
    "You shall see\n",
    "<img src=\"./source_mesh.png\">"
   ]
  },
  {
   "cell_type": "markdown",
   "metadata": {},
   "source": [
    "# 2. Non-rigid icp\n",
    "\n",
    "First, test non-rigid icp algorithm."
   ]
  },
  {
   "cell_type": "code",
   "execution_count": 4,
   "metadata": {
    "collapsed": true
   },
   "outputs": [],
   "source": [
    "target = menpo3d.io.import_mesh(\"../lsfm-ori/1/1_0002.obj\")\n",
    "#target.view()"
   ]
  },
  {
   "cell_type": "code",
   "execution_count": null,
   "metadata": {},
   "outputs": [
    {
     "name": "stdout",
     "output_type": "stream",
     "text": [
      "Epoch 1 with stiffness 50\n",
      "solving linear equation...\n",
      "2018-11-07 15:45:52.295989\n",
      "inversing matrix"
     ]
    }
   ],
   "source": [
    "fitter = no_landmark_nicp.NonRigidIcp()\n",
    "transformed_source = fitter.non_rigid_icp(source, target)"
   ]
  },
  {
   "cell_type": "markdown",
   "metadata": {},
   "source": [
    "Epoch 1 with stiffness 50\n",
    "\n",
    "solving linear equation...\n",
    "\n",
    "2018-11-07 16:27:53.295637\n",
    "\n",
    "inversing matrix\n",
    "\n",
    "matrix is not invertible, using pseudo-inverse instead\n",
    "\n",
    "2018-11-07 16:33:30.680069\n",
    "\n",
    "\\- 1 regularized_error: 0.289  total: 39%  norms: 39%  edges: 100%\n",
    "\n",
    "solving linear equation...\n",
    "\n",
    "2018-11-07 16:33:30.771353\n",
    "\n",
    "inversing matrix\n",
    "\n",
    "matrix is not invertible, using pseudo-inverse instead\n",
    "\n",
    "2018-11-07 16:39:07.591177\n",
    "\n",
    "\\- 2 regularized_error: 0.199  total: 68%  norms: 68%  edges: 100%\n",
    "\n",
    "solving linear equation...\n",
    "\n",
    "2018-11-07 16:39:07.708618\n",
    "\n",
    "inversing matrix\n",
    "\n",
    "matrix is not invertible, using pseudo-inverse instead\n",
    "\n",
    "2018-11-07 16:44:45.023712\n",
    "\n",
    "\\- 3 regularized_error: 0.100  total: 74%  norms: 74%  edges: 100%\n",
    "\n",
    "solving linear equation...\n",
    "\n",
    "2018-11-07 16:44:45.145756\n",
    "\n",
    "inversing matrix\n",
    "\n",
    "matrix is not invertible, using pseudo-inverse instead\n",
    "\n",
    "2018-11-07 16:50:22.234914\n",
    "\n",
    "\\- 4 regularized_error: 0.042  total: 75%  norms: 75%  edges: 100%\n",
    "\n",
    "solving linear equation...\n",
    "\n",
    "2018-11-07 16:50:22.359200\n",
    "\n",
    "inversing matrix\n",
    "\n",
    "matrix is not invertible, using pseudo-inverse instead"
   ]
  },
  {
   "cell_type": "code",
   "execution_count": null,
   "metadata": {
    "collapsed": true
   },
   "outputs": [],
   "source": []
  }
 ],
 "metadata": {
  "kernelspec": {
   "display_name": "Python 3",
   "language": "python",
   "name": "python3"
  },
  "language_info": {
   "codemirror_mode": {
    "name": "ipython",
    "version": 3
   },
   "file_extension": ".py",
   "mimetype": "text/x-python",
   "name": "python",
   "nbconvert_exporter": "python",
   "pygments_lexer": "ipython3",
   "version": "3.5.4"
  }
 },
 "nbformat": 4,
 "nbformat_minor": 2
}
