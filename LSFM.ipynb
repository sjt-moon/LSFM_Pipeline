{
 "cells": [
  {
   "cell_type": "markdown",
   "metadata": {},
   "source": [
    "# 1. Loader"
   ]
  },
  {
   "cell_type": "code",
   "execution_count": 20,
   "metadata": {},
   "outputs": [],
   "source": [
    "from helper import *\n",
    "from algorithms import *\n",
    "import menpo3d\n",
    "from importlib import reload\n",
    "import datetime\n",
    "import numpy as np\n",
    "import importlib\n",
    "from scipy import sparse\n",
    "import time\n",
    "import matplotlib.pyplot as plt\n",
    "import warnings\n",
    "\n",
    "# %matplotlib qt"
   ]
  },
  {
   "cell_type": "markdown",
   "metadata": {},
   "source": [
    "First load the BFM mean model as the target mesh.\n",
    "\n",
    "On shark, please comment on `%matplotlib qt` and all `mesh.view()` codes, as shark does not provides these viewings. If you are on your laptop, please un-comment these and help yourself viewing 3D faces."
   ]
  },
  {
   "cell_type": "code",
   "execution_count": 16,
   "metadata": {},
   "outputs": [],
   "source": [
    "bfm_mean = loader.get_mean_model(\"../BFM.mat\")\n",
    "#bfm_mean.view()"
   ]
  },
  {
   "cell_type": "markdown",
   "metadata": {},
   "source": [
    "You should see\n",
    "\n",
    "<img src=\"./BFM_mean.png\">"
   ]
  },
  {
   "cell_type": "markdown",
   "metadata": {},
   "source": [
    "Then load the source mesh to do the transformation."
   ]
  },
  {
   "cell_type": "code",
   "execution_count": 5,
   "metadata": {},
   "outputs": [],
   "source": [
    "source = loader.get_mesh(\"../lsfm-ori/1/1_0001.obj\")\n",
    "#source.view()"
   ]
  },
  {
   "cell_type": "markdown",
   "metadata": {},
   "source": [
    "You shall see\n",
    "<img src=\"./source_mesh.png\">"
   ]
  },
  {
   "cell_type": "markdown",
   "metadata": {},
   "source": [
    "# 2. Test matrix norm solver"
   ]
  },
  {
   "cell_type": "code",
   "execution_count": 10,
   "metadata": {},
   "outputs": [
    {
     "data": {
      "text/plain": [
       "<module 'helper.math_helper' from '/home/jingtao/LSFM_Pipeline/helper/math_helper.py'>"
      ]
     },
     "execution_count": 10,
     "metadata": {},
     "output_type": "execute_result"
    }
   ],
   "source": [
    "importlib.reload(math_helper)"
   ]
  },
  {
   "cell_type": "markdown",
   "metadata": {},
   "source": [
    "By default, we use `umfpack` solver."
   ]
  },
  {
   "cell_type": "code",
   "execution_count": 11,
   "metadata": {},
   "outputs": [
    {
     "name": "stdout",
     "output_type": "stream",
     "text": [
      "iter: 1, error: 400378.41\n"
     ]
    },
    {
     "name": "stderr",
     "output_type": "stream",
     "text": [
      "/home/jingtao/anaconda3/envs/lsfm/lib/python3.5/site-packages/scikits/umfpack/umfpack.py:718: UmfpackWarning: (almost) singular matrix! (estimated cond. number: 4.82e+15)\n",
      "  warnings.warn(msg, UmfpackWarning)\n"
     ]
    },
    {
     "name": "stdout",
     "output_type": "stream",
     "text": [
      "iter: 2, error: 0.00\n",
      "2.9975796744429572e-18\n",
      "\n",
      " time spent: 30.3 seconds\n"
     ]
    }
   ],
   "source": [
    "A = np.random.random((4000,5000))\n",
    "B = np.random.random((4000,300))\n",
    "solver = math_helper.Solver(A, B)\n",
    "\n",
    "start = time.time()\n",
    "X = solver.solve()\n",
    "error = np.sum((A @ X - B) ** 2)\n",
    "print(error)\n",
    "\n",
    "print(\"\\n time spent: {:.1f} seconds\".format(time.time() - start))"
   ]
  },
  {
   "cell_type": "markdown",
   "metadata": {},
   "source": [
    "On comparison, with naive solver."
   ]
  },
  {
   "cell_type": "code",
   "execution_count": 71,
   "metadata": {},
   "outputs": [
    {
     "name": "stdout",
     "output_type": "stream",
     "text": [
      "iter: 1, error: 400080.04\n",
      "solving linear equation...\n",
      "2018-11-12 14:31:20.359657\n",
      "inversing matrix\n",
      "2018-11-12 14:31:35.188524\n",
      "iter: 2, error: 416857598.48\n",
      "solving linear equation...\n",
      "2018-11-12 14:31:37.813341\n",
      "inversing matrix\n",
      "2018-11-12 14:31:52.670348\n",
      "iter: 3, error: 416857598.48\n",
      "solving linear equation...\n",
      "2018-11-12 14:31:55.261406\n",
      "inversing matrix\n",
      "2018-11-12 14:32:10.098824\n",
      "iter: 4, error: 416857598.48\n",
      "solving linear equation...\n",
      "2018-11-12 14:32:12.706352\n",
      "inversing matrix\n",
      "2018-11-12 14:32:27.537560\n",
      "iter: 5, error: 416857598.48\n",
      "solving linear equation...\n",
      "2018-11-12 14:32:30.128560\n",
      "inversing matrix\n",
      "2018-11-12 14:32:44.951544\n",
      "iter: 6, error: 416857598.48\n",
      "solving linear equation...\n",
      "2018-11-12 14:32:47.561703\n",
      "inversing matrix\n",
      "2018-11-12 14:33:02.409826\n",
      "iter: 7, error: 416857598.48\n",
      "solving linear equation...\n",
      "2018-11-12 14:33:05.005904\n",
      "inversing matrix\n",
      "2018-11-12 14:33:19.844723\n",
      "iter: 8, error: 416857598.48\n",
      "solving linear equation...\n",
      "2018-11-12 14:33:22.436402\n",
      "inversing matrix\n",
      "2018-11-12 14:33:37.277187\n",
      "iter: 9, error: 416857598.48\n",
      "solving linear equation...\n",
      "2018-11-12 14:33:39.890197\n",
      "inversing matrix\n",
      "2018-11-12 14:33:54.757260\n",
      "iter: 10, error: 416857598.48\n",
      "solving linear equation...\n",
      "2018-11-12 14:33:57.348386\n",
      "inversing matrix\n",
      "2018-11-12 14:34:12.170858\n",
      "416857598.4793583\n",
      "\n",
      " time spent: 174.6 seconds\n"
     ]
    }
   ],
   "source": [
    "A = np.random.random((4000,5000))\n",
    "B = np.random.random((4000,300))\n",
    "solver = math_helper.Solver(A, B, solver=\"naive\")\n",
    "\n",
    "start = time.time()\n",
    "X = solver.solve()\n",
    "error = np.sum((A @ X - B) ** 2)\n",
    "print(error)\n",
    "\n",
    "print(\"\\n time spent: {:.1f} seconds\".format(time.time() - start))"
   ]
  },
  {
   "cell_type": "markdown",
   "metadata": {},
   "source": [
    "| solver  | umfpack | naive |\n",
    "|------|:------------:|----:|\n",
    "| time | 30.2s | 174.6s |"
   ]
  },
  {
   "cell_type": "code",
   "execution_count": null,
   "metadata": {},
   "outputs": [],
   "source": []
  },
  {
   "cell_type": "markdown",
   "metadata": {},
   "source": [
    "# 3. Non-rigid icp\n",
    "\n",
    "First, test non-rigid icp algorithm."
   ]
  },
  {
   "cell_type": "code",
   "execution_count": 12,
   "metadata": {},
   "outputs": [],
   "source": [
    "target = loader.get_mesh(\"../lsfm-ori/1/1_0002.obj\")\n",
    "#target.view()"
   ]
  },
  {
   "cell_type": "code",
   "execution_count": 17,
   "metadata": {},
   "outputs": [
    {
     "name": "stderr",
     "output_type": "stream",
     "text": [
      "/home/jingtao/anaconda3/envs/lsfm/lib/python3.5/site-packages/vtk/util/numpy_support.py:134: FutureWarning: Conversion of the second argument of issubdtype from `complex` to `np.complexfloating` is deprecated. In future, it will be treated as `np.complex128 == np.dtype(complex).type`.\n",
      "  assert not numpy.issubdtype(z.dtype, complex), \\\n"
     ]
    },
    {
     "name": "stdout",
     "output_type": "stream",
     "text": [
      "Epoch 1 with stiffness 50\n"
     ]
    },
    {
     "name": "stderr",
     "output_type": "stream",
     "text": [
      "/home/jingtao/anaconda3/envs/lsfm/lib/python3.5/site-packages/scikits/umfpack/umfpack.py:718: UmfpackWarning: (almost) singular matrix! (estimated cond. number: 3.12e+16)\n",
      "  warnings.warn(msg, UmfpackWarning)\n"
     ]
    },
    {
     "name": "stdout",
     "output_type": "stream",
     "text": [
      " - 1 regularized_error: 125643.643  \n"
     ]
    },
    {
     "name": "stderr",
     "output_type": "stream",
     "text": [
      "/home/jingtao/anaconda3/envs/lsfm/lib/python3.5/site-packages/scikits/umfpack/umfpack.py:560: UmfpackWarning: Singular matrix\n",
      "  warnings.warn('Singular matrix', UmfpackWarning)\n",
      "/home/jingtao/anaconda3/envs/lsfm/lib/python3.5/site-packages/scikits/umfpack/umfpack.py:709: UmfpackWarning: Zeroing nan and inf entries...\n",
      "  warnings.warn('Zeroing nan and inf entries...', UmfpackWarning)\n",
      "/home/jingtao/anaconda3/envs/lsfm/lib/python3.5/site-packages/scikits/umfpack/umfpack.py:714: RuntimeWarning: divide by zero encountered in double_scalars\n",
      "  econd = 1.0 / self.info[UMFPACK_RCOND]\n",
      "/home/jingtao/anaconda3/envs/lsfm/lib/python3.5/site-packages/scikits/umfpack/umfpack.py:718: UmfpackWarning: (almost) singular matrix! (estimated cond. number: inf)\n",
      "  warnings.warn(msg, UmfpackWarning)\n"
     ]
    },
    {
     "name": "stdout",
     "output_type": "stream",
     "text": [
      " - 2 regularized_error: 125643.643  \n",
      " - 3 regularized_error: 6.096  \n",
      " - 4 regularized_error: 68.296  \n",
      " - 5 regularized_error: 69.013  \n",
      "Epoch 2 with stiffness 20\n",
      " - 1 regularized_error: 18.755  \n",
      " - 2 regularized_error: 39.527  \n",
      " - 3 regularized_error: 34.161  \n",
      " - 4 regularized_error: 13.974  \n",
      " - 5 regularized_error: 17.149  \n"
     ]
    }
   ],
   "source": [
    "fitter = no_landmark_nicp.NonRigidIcp(stiffness_weights=[50, 20], data_weights=[None]*2, max_iter=5)\n",
    "transformed_source = fitter.non_rigid_icp(source, bfm_mean)"
   ]
  },
  {
   "cell_type": "markdown",
   "metadata": {},
   "source": [
    "After 2 epoches with each of 5 iterations, we could see\n",
    "<img src=\"./face_after_5_iters.png\">"
   ]
  },
  {
   "cell_type": "markdown",
   "metadata": {},
   "source": [
    "Now store the mesh."
   ]
  },
  {
   "cell_type": "code",
   "execution_count": 18,
   "metadata": {},
   "outputs": [],
   "source": [
    "import pickle as pkl\n",
    "\n",
    "with open('tr.pkl', 'wb') as fw:\n",
    "    pkl.dump({'points': transformed_source.points, 'trilist': transformed_source.trilist}, fw)"
   ]
  },
  {
   "cell_type": "code",
   "execution_count": null,
   "metadata": {},
   "outputs": [],
   "source": []
  },
  {
   "cell_type": "code",
   "execution_count": null,
   "metadata": {},
   "outputs": [],
   "source": []
  },
  {
   "cell_type": "code",
   "execution_count": null,
   "metadata": {},
   "outputs": [],
   "source": []
  },
  {
   "cell_type": "code",
   "execution_count": null,
   "metadata": {},
   "outputs": [],
   "source": []
  }
 ],
 "metadata": {
  "kernelspec": {
   "display_name": "Python 3",
   "language": "python",
   "name": "python3"
  },
  "language_info": {
   "codemirror_mode": {
    "name": "ipython",
    "version": 3
   },
   "file_extension": ".py",
   "mimetype": "text/x-python",
   "name": "python",
   "nbconvert_exporter": "python",
   "pygments_lexer": "ipython3",
   "version": "3.5.6"
  }
 },
 "nbformat": 4,
 "nbformat_minor": 2
}
